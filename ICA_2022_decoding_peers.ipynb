{
 "cells": [
  {
   "cell_type": "markdown",
   "metadata": {},
   "source": [
    "## Decoding how the brain tracks peer drinking in groups \n",
    "\n",
    "<font size=\"3\"> <span style='color: #7393B3'> Mia Jovanova & Danielle Cosme\n",
    "    \n",
    "<font size=\"3\"> <span style='color: gray'> Main analysis presented at ICA, May 2022 Paris\n",
    "    \n",
    "   * <font size=\"3\">[Pre-registration](https://osf.io/2qny7/)\n",
    "   * [Slides](https://docs.google.com/presentation/d/1CAG-N_qar-9EMb5qb8QhGywAI5njhvCUFXiKtNYRLYM/edit#slide=id.g12f6e35eda1_0_120) \n",
    "    "
   ]
  },
  {
   "cell_type": "markdown",
   "metadata": {},
   "source": [
    "\n",
    "### Study background"
   ]
  },
  {
   "cell_type": "markdown",
   "metadata": {},
   "source": [
    "* The current study investigates how the brain represents the perceived health habits of\n",
    "peers, such as alcohol use, within existing social groups. \n",
    "\n",
    "* We will use multivoxel pattern analysis\n",
    "(MVPA) to ask the following questions: (1) First, how does the brain support the ability to take\n",
    "the perspective of peers who engage in varying drinking habits (e.g. drink more vs. less than\n",
    "oneself)? Second, does the brain activate information about peer drinking habits even when\n",
    "passively viewing peer faces? And to what degree is this neural representation about peers\n",
    "shared across individuals vs. idiosyncratic? \n",
    "\n",
    "\n",
    "* Answering these questions may provide insight into\n",
    "how individuals process information about others more generally and respond to health-related\n",
    "influences outside the laboratory. Moreover, this investigation provides an opportunity to bridge\n",
    "health behavior theories (e.g., about social norms and social learning) with models of\n",
    "the social brain to predict individual differences in susceptibility to social influence."
   ]
  },
  {
   "cell_type": "markdown",
   "metadata": {},
   "source": [
    "### Hypothesis:\n",
    "\n",
    "   * H1a: Conducting MVPA across participants, we expect that shared patterns of activity in brain regions  will be able to distinguish trials when participants take the perspective of peers who drink more from trials when they  take the perspective of peers who drink less with above chance accuracy. \n"
   ]
  },
  {
   "cell_type": "markdown",
   "metadata": {},
   "source": [
    "### Method:\n",
    "* We will use supervised classification to determine the extent to which we can distinguish\n",
    "whether individuals were instructed to take the perspective of a peer who drinks more (“peer\n",
    "high”) or less (“peer low”) than themselves, using patterns of activity in the whole brain. We will\n",
    "use smoothed data (smoothing kernel = 6mm) in MNI space—that is, we will average trials to\n",
    "yield separate patterns for peer high and peer low for each participant and task run (4 total). We\n",
    "will exclude individual task runs that are contaminated by motion, defined using the standard\n",
    "operating procedures for this project. \n",
    "\n",
    "\n",
    "* We will use a regularized logistic classifier to facilitate\n",
    "interpretability of the weights with the default hyperparameters (C = 1.0) implemented in\n",
    "NLTools. We will use 5-fold cross-validation to assess classification accuracy at the run level\n",
    "while controlling for dependence of runs within person using stratified sampling so that\n",
    "participant’s data is kept together within each cross-validation fold. Standard errors will be\n",
    "averaged across cross-validation iterations. If the average accuracy across the folds is\n",
    "significantly higher than 50%, we will interpret this as evidence that taking the perspective of\n",
    "peers perceived to drink more or less than themselves is dissociable based on patterns of\n",
    "activity within the whole-brain"
   ]
  },
  {
   "cell_type": "markdown",
   "metadata": {},
   "source": [
    "----------------"
   ]
  },
  {
   "cell_type": "markdown",
   "metadata": {},
   "source": [
    "### Load packages\n",
    "\n",
    "* nltools\n",
    "* numpy\n",
    "* pandas\n",
    "* niliearn\n",
    "* glob"
   ]
  },
  {
   "cell_type": "code",
   "execution_count": null,
   "metadata": {},
   "outputs": [],
   "source": [
    "import numpy as np\n",
    "import pandas as pd\n",
    "import glob\n",
    "from nltools.datasets import download_collection\n",
    "from nltools.data import Brain_Data\n",
    "from nilearn import image\n",
    "from nilearn.masking import compute_epi_mask\n",
    "from nltools.analysis import Roc\n",
    "from nltools.stats import correlation\n",
    "import nilearn.plotting as plotting\n",
    "from nilearn.masking import compute_epi_mask, apply_mask, unmask\n",
    "from nilearn.image import resample_to_img"
   ]
  },
  {
   "cell_type": "markdown",
   "metadata": {},
   "source": [
    "### Load files\n",
    "\n",
    "* Neuroimaging task files\n",
    "    \n",
    "* Metadata: information about trials and participants\n",
    "    \n",
    "    - <span style='color: gray'>  'Upreg' trials when participants are prompted to think about peers who drink more\n",
    "    - <span style='color: gray'> 'Downreg' trials when participants are prompted to think about peers who drink less\n",
    "    \n",
    "   "
   ]
  },
  {
   "cell_type": "code",
   "execution_count": null,
   "metadata": {},
   "outputs": [],
   "source": [
    "files=sorted(glob.glob(\"/data00/projects/MURI/data/BIDS/derivatives/nipype/perspective/*.nii\")) \n",
    "metadata=pd.read_csv(\"/data00/projects/MURI/scripts/jupyterhub_users/CNLab/analyses/MVPA_PPT_mj/metadata/metadata_BMIN525_development.csv\")"
   ]
  },
  {
   "cell_type": "markdown",
   "metadata": {},
   "source": [
    "### Prepare brain files\n",
    "\n",
    "* Brain_data is a helpful tool to convert neuroimaging data in python as a vector rather than a 3-dimensional matrix. Source: (https://nltools.org/api.html)"
   ]
  },
  {
   "cell_type": "code",
   "execution_count": null,
   "metadata": {},
   "outputs": [],
   "source": [
    "data = Brain_Data(files,X=metadata)"
   ]
  },
  {
   "cell_type": "markdown",
   "metadata": {},
   "source": [
    "* Double check sample size: each individual (N = 34) should have 2 brain files for a total of 68 brainfiles"
   ]
  },
  {
   "cell_type": "code",
   "execution_count": null,
   "metadata": {},
   "outputs": [],
   "source": [
    "sample_size = len(files)\n",
    "if sample_size  == len(np.unique(metadata['pID']))*2:\n",
    "    print(\"sample size:\", sample_size, \"is CORRECT\")\n",
    "\n",
    "if sample_size  != 68:\n",
    "    print(\"sample size\", sample_size, \"is INCORRECT. STOP!\")"
   ]
  },
  {
   "cell_type": "markdown",
   "metadata": {},
   "source": [
    "### Set up classification "
   ]
  },
  {
   "cell_type": "code",
   "execution_count": null,
   "metadata": {
    "scrolled": true
   },
   "outputs": [],
   "source": [
    "X_development = data.X.loc[data.X['sample']=='development']\n",
    "Y_development = X_development['trial_type']\n",
    "print('Development N data = ', len(X_development))\n",
    "X_development =pd.DataFrame(X_development)\n",
    "development = data[np.where(data.X['id'].isin(X_development['id']))[0]]\n",
    "upreg = development[np.where(development.X['trial_type']=='upreg')[0]]\n",
    "downreg = development[np.where(development.X['trial_type']=='downreg')[0]]\n",
    "dat = upreg.append(downreg)\n",
    "dat.Y = pd.DataFrame(np.concatenate([np.ones(len(upreg)),np.zeros(len(downreg))]))\n",
    "subject_id = np.concatenate([upreg.X['pID'].values,downreg.X['pID'].values])"
   ]
  },
  {
   "cell_type": "markdown",
   "metadata": {},
   "source": [
    "### Run classification"
   ]
  },
  {
   "cell_type": "code",
   "execution_count": null,
   "metadata": {},
   "outputs": [],
   "source": [
    "logistic_stats = dat.predict(algorithm='logistic',\n",
    "                                  cv_dict={'type': 'kfolds', 'n_folds': 5 , 'subject_id' : subject_id, \n",
    "                                           'stratified':dat.Y},\n",
    "                                  **{'max_iter': 1000})"
   ]
  },
  {
   "cell_type": "code",
   "execution_count": null,
   "metadata": {},
   "outputs": [],
   "source": [
    "roc_logistic = Roc(input_values=logistic_stats['prob_xval'][::,1], \n",
    "binary_outcome=logistic_stats['Y'].astype(bool), threshold_type='optimal_overall',forced_choice=None)\n",
    "roc_logistic.plot()\n",
    "roc_logistic.summary()"
   ]
  },
  {
   "cell_type": "markdown",
   "metadata": {},
   "source": [
    "### Plot & save resulting weightmaps"
   ]
  },
  {
   "cell_type": "code",
   "execution_count": null,
   "metadata": {},
   "outputs": [],
   "source": [
    "plotting.plot_glass_brain(logistic_stats['weight_map'].to_nifti(), display_mode='lyrz', colorbar=True, plot_abs=False, cmap=plotting.cm.ocean_hot)\n",
    "logistic_stats['weight_map'].write('logistic_weightmap_decoding_peers_H1a.nii')"
   ]
  }
 ],
 "metadata": {
  "kernelspec": {
   "display_name": "Python 3",
   "language": "python",
   "name": "python3"
  },
  "language_info": {
   "codemirror_mode": {
    "name": "ipython",
    "version": 3
   },
   "file_extension": ".py",
   "mimetype": "text/x-python",
   "name": "python",
   "nbconvert_exporter": "python",
   "pygments_lexer": "ipython3",
   "version": "3.7.3"
  }
 },
 "nbformat": 4,
 "nbformat_minor": 2
}
